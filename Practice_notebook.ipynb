{
 "cells": [
  {
   "cell_type": "markdown",
   "id": "4c8b955c",
   "metadata": {},
   "source": [
    "# Find PI to the Nth Digit #"
   ]
  },
  {
   "cell_type": "code",
   "execution_count": 1,
   "id": "d8a6fc7b",
   "metadata": {},
   "outputs": [],
   "source": [
    "import numpy as np\n",
    "import random"
   ]
  },
  {
   "cell_type": "code",
   "execution_count": 2,
   "id": "6339d17e",
   "metadata": {},
   "outputs": [
    {
     "name": "stdout",
     "output_type": "stream",
     "text": [
      "<class 'float'>\n"
     ]
    }
   ],
   "source": [
    "print(type(np.pi))"
   ]
  },
  {
   "cell_type": "code",
   "execution_count": 3,
   "id": "cac04595",
   "metadata": {},
   "outputs": [],
   "source": [
    "def pi_decimals(n):\n",
    "    if n > 10:\n",
    "        return \"error, number too big\"\n",
    "    else:\n",
    "        n_str = str(n)\n",
    "        return format(np.pi, '.'+n_str+'f')"
   ]
  },
  {
   "cell_type": "code",
   "execution_count": 4,
   "id": "9af186d5",
   "metadata": {},
   "outputs": [],
   "source": [
    "randomlist = []\n",
    "for i in range(0,5):\n",
    "    n = random.randint(1,30)\n",
    "    randomlist.append(n)"
   ]
  },
  {
   "cell_type": "code",
   "execution_count": 5,
   "id": "28759b37",
   "metadata": {},
   "outputs": [
    {
     "name": "stdout",
     "output_type": "stream",
     "text": [
      "3 3.142\n",
      "10 3.1415926536\n",
      "24 error, number too big\n",
      "30 error, number too big\n",
      "13 error, number too big\n"
     ]
    }
   ],
   "source": [
    "for x in randomlist:\n",
    "    print(x, pi_decimals(x))"
   ]
  },
  {
   "cell_type": "code",
   "execution_count": 8,
   "id": "ab200621",
   "metadata": {},
   "outputs": [
    {
     "name": "stdout",
     "output_type": "stream",
     "text": [
      "<class 'float'>\n",
      "25 error, number too big\n",
      "18 error, number too big\n",
      "14 error, number too big\n",
      "23 error, number too big\n",
      "17 error, number too big\n"
     ]
    }
   ],
   "source": [
    "# Find PI to the Nth Digit #\n",
    "\n",
    "import numpy as np\n",
    "import random\n",
    "\n",
    "print(type(np.pi))\n",
    "\n",
    "def pi_decimals(n):\n",
    "    if n > 10:\n",
    "        return \"error, number too big\"\n",
    "    else:\n",
    "        n_str = str(n)\n",
    "        return format(np.pi, '.'+n_str+'f')\n",
    "\n",
    "randomlist = []\n",
    "for i in range(0,5):\n",
    "    n = random.randint(1,30)\n",
    "    randomlist.append(n)\n",
    "\n",
    "for x in randomlist:\n",
    "    print(x, pi_decimals(x))"
   ]
  },
  {
   "cell_type": "markdown",
   "id": "a6b9de96",
   "metadata": {},
   "source": [
    "# Find e to the Nth Digit"
   ]
  },
  {
   "cell_type": "code",
   "execution_count": 9,
   "id": "6cdb0259",
   "metadata": {},
   "outputs": [],
   "source": [
    "import numpy as np\n",
    "import random"
   ]
  },
  {
   "cell_type": "code",
   "execution_count": 10,
   "id": "f45f5e20",
   "metadata": {},
   "outputs": [
    {
     "name": "stdout",
     "output_type": "stream",
     "text": [
      "<class 'numpy.ufunc'>\n"
     ]
    }
   ],
   "source": [
    "print(type(np.exp))"
   ]
  },
  {
   "cell_type": "code",
   "execution_count": 11,
   "id": "364533de",
   "metadata": {},
   "outputs": [
    {
     "data": {
      "text/plain": [
       "2.718281828459045"
      ]
     },
     "execution_count": 11,
     "metadata": {},
     "output_type": "execute_result"
    }
   ],
   "source": [
    "np.exp(1)"
   ]
  },
  {
   "cell_type": "code",
   "execution_count": 12,
   "id": "29533e0f",
   "metadata": {},
   "outputs": [],
   "source": [
    "def e_decimals(n):   \n",
    "    e_val = np.exp(1)\n",
    "    \n",
    "    if n > 10:\n",
    "        return \"error, number too big\"\n",
    "    else:\n",
    "        n_str = str(n)\n",
    "        return format(e_val, '.'+n_str+'f')"
   ]
  },
  {
   "cell_type": "code",
   "execution_count": 13,
   "id": "01729d01",
   "metadata": {},
   "outputs": [],
   "source": [
    "randomlist = []\n",
    "for i in range(0,5):\n",
    "    n = random.randint(1,30)\n",
    "    randomlist.append(n)"
   ]
  },
  {
   "cell_type": "code",
   "execution_count": 14,
   "id": "4c98e3ba",
   "metadata": {},
   "outputs": [
    {
     "name": "stdout",
     "output_type": "stream",
     "text": [
      "20 error, number too big\n",
      "27 error, number too big\n",
      "16 error, number too big\n",
      "16 error, number too big\n",
      "7 2.7182818\n"
     ]
    }
   ],
   "source": [
    "for x in randomlist:\n",
    "    print(x, e_decimals(x))"
   ]
  },
  {
   "cell_type": "markdown",
   "id": "c1b2da19",
   "metadata": {},
   "source": [
    "# Fibonacci Sequence"
   ]
  },
  {
   "cell_type": "code",
   "execution_count": 15,
   "id": "aa9f214f",
   "metadata": {},
   "outputs": [],
   "source": [
    "def recur_fibo(n):\n",
    "    if n <= 1:\n",
    "        return n\n",
    "    else:\n",
    "        return(recur_fibo(n-1) + recur_fibo(n-2))\n",
    "        "
   ]
  },
  {
   "cell_type": "code",
   "execution_count": 18,
   "id": "1b1159b5",
   "metadata": {},
   "outputs": [
    {
     "name": "stdout",
     "output_type": "stream",
     "text": [
      "0\n",
      "1\n",
      "1\n",
      "2\n",
      "3\n",
      "5\n",
      "8\n",
      "13\n",
      "21\n",
      "34\n",
      "55\n"
     ]
    }
   ],
   "source": [
    "for i in range(11):\n",
    "    print(recur_fibo(i))"
   ]
  },
  {
   "cell_type": "markdown",
   "id": "45ff8d41",
   "metadata": {},
   "source": [
    "# Prime Factorization #"
   ]
  },
  {
   "cell_type": "code",
   "execution_count": 5,
   "id": "b88445b4",
   "metadata": {},
   "outputs": [],
   "source": [
    "def prime_factors():\n",
    "    n = int(input())\n",
    "    i = 2\n",
    "    factors = []\n",
    "    while i * i <= n:\n",
    "        if n % i:\n",
    "            i += 1\n",
    "        else:\n",
    "            n //= i\n",
    "            factors.append(i)\n",
    "    if n > 1:\n",
    "        factors.append(n)\n",
    "    return factors"
   ]
  },
  {
   "cell_type": "code",
   "execution_count": 6,
   "id": "fba3d68b",
   "metadata": {},
   "outputs": [
    {
     "name": "stdout",
     "output_type": "stream",
     "text": [
      "4\n"
     ]
    },
    {
     "data": {
      "text/plain": [
       "[2, 2]"
      ]
     },
     "execution_count": 6,
     "metadata": {},
     "output_type": "execute_result"
    }
   ],
   "source": [
    "prime_factors()"
   ]
  },
  {
   "cell_type": "markdown",
   "id": "28b1ea52",
   "metadata": {},
   "source": [
    "# Find Cost of Tile to Cover W x H Floor "
   ]
  },
  {
   "cell_type": "code",
   "execution_count": 12,
   "id": "92536afe",
   "metadata": {},
   "outputs": [],
   "source": [
    "def cost_of_tile(cost_per_foot, w, h):\n",
    "    \"\"\"\n",
    "    cost_per_feet: Integer representing the price per foot of tile.\n",
    "    w: Width of the area that is going to be tiled.\n",
    "    h: Height of the area that is going to be tiled.\n",
    "    \"\"\"\n",
    "    \n",
    "    area = w * h\n",
    "    price = area * cost_per_foot\n",
    "    \n",
    "    return price"
   ]
  },
  {
   "cell_type": "code",
   "execution_count": 13,
   "id": "781e8236",
   "metadata": {},
   "outputs": [
    {
     "data": {
      "text/plain": [
       "2887.5"
      ]
     },
     "execution_count": 13,
     "metadata": {},
     "output_type": "execute_result"
    }
   ],
   "source": [
    "cost_of_tile(1.75,30,55)"
   ]
  },
  {
   "cell_type": "code",
   "execution_count": null,
   "id": "1d7cb7f0",
   "metadata": {},
   "outputs": [],
   "source": []
  }
 ],
 "metadata": {
  "interpreter": {
   "hash": "62326b5955bd05a6d9e9a4885564919ec8e139cc272fd049089ba9d6fea18143"
  },
  "kernelspec": {
   "display_name": "Python 3 (ipykernel)",
   "language": "python",
   "name": "python3"
  },
  "language_info": {
   "codemirror_mode": {
    "name": "ipython",
    "version": 3
   },
   "file_extension": ".py",
   "mimetype": "text/x-python",
   "name": "python",
   "nbconvert_exporter": "python",
   "pygments_lexer": "ipython3",
   "version": "3.9.7"
  }
 },
 "nbformat": 4,
 "nbformat_minor": 5
}
