{
 "cells": [
  {
   "cell_type": "markdown",
   "id": "4c8b955c",
   "metadata": {},
   "source": [
    "# Find PI to the Nth Digit #"
   ]
  },
  {
   "cell_type": "code",
   "execution_count": 1,
   "id": "d8a6fc7b",
   "metadata": {},
   "outputs": [],
   "source": [
    "import numpy as np\n",
    "import random"
   ]
  },
  {
   "cell_type": "code",
   "execution_count": 2,
   "id": "6339d17e",
   "metadata": {},
   "outputs": [
    {
     "name": "stdout",
     "output_type": "stream",
     "text": [
      "<class 'float'>\n"
     ]
    }
   ],
   "source": [
    "print(type(np.pi))"
   ]
  },
  {
   "cell_type": "code",
   "execution_count": 3,
   "id": "cac04595",
   "metadata": {},
   "outputs": [],
   "source": [
    "def pi_decimals(n):\n",
    "    if n > 10:\n",
    "        return \"error, number too big\"\n",
    "    else:\n",
    "        n_str = str(n)\n",
    "        return format(np.pi, '.'+n_str+'f')"
   ]
  },
  {
   "cell_type": "code",
   "execution_count": 4,
   "id": "9af186d5",
   "metadata": {},
   "outputs": [],
   "source": [
    "randomlist = []\n",
    "for i in range(0,5):\n",
    "    n = random.randint(1,30)\n",
    "    randomlist.append(n)"
   ]
  },
  {
   "cell_type": "code",
   "execution_count": 5,
   "id": "28759b37",
   "metadata": {},
   "outputs": [
    {
     "name": "stdout",
     "output_type": "stream",
     "text": [
      "4 3.1416\n",
      "29 error, number too big\n",
      "3 3.142\n",
      "29 error, number too big\n",
      "5 3.14159\n"
     ]
    }
   ],
   "source": [
    "for x in randomlist:\n",
    "    print(x, pi_decimals(x))"
   ]
  },
  {
   "cell_type": "code",
   "execution_count": 6,
   "id": "ab200621",
   "metadata": {},
   "outputs": [
    {
     "name": "stdout",
     "output_type": "stream",
     "text": [
      "<class 'float'>\n",
      "10 3.1415926536\n",
      "20 error, number too big\n",
      "16 error, number too big\n",
      "17 error, number too big\n",
      "20 error, number too big\n"
     ]
    }
   ],
   "source": [
    "# Find PI to the Nth Digit #\n",
    "\n",
    "import numpy as np\n",
    "import random\n",
    "\n",
    "print(type(np.pi))\n",
    "\n",
    "def pi_decimals(n):\n",
    "    if n > 10:\n",
    "        return \"error, number too big\"\n",
    "    else:\n",
    "        n_str = str(n)\n",
    "        return format(np.pi, '.'+n_str+'f')\n",
    "\n",
    "randomlist = []\n",
    "for i in range(0,5):\n",
    "    n = random.randint(1,30)\n",
    "    randomlist.append(n)\n",
    "\n",
    "for x in randomlist:\n",
    "    print(x, pi_decimals(x))"
   ]
  },
  {
   "cell_type": "code",
   "execution_count": null,
   "id": "68588757",
   "metadata": {},
   "outputs": [],
   "source": []
  },
  {
   "cell_type": "code",
   "execution_count": null,
   "id": "d1a623d3",
   "metadata": {},
   "outputs": [],
   "source": []
  },
  {
   "cell_type": "code",
   "execution_count": null,
   "id": "f0e53ab5",
   "metadata": {},
   "outputs": [],
   "source": []
  }
 ],
 "metadata": {
  "kernelspec": {
   "display_name": "learn-env",
   "language": "python",
   "name": "learn-env"
  },
  "language_info": {
   "codemirror_mode": {
    "name": "ipython",
    "version": 3
   },
   "file_extension": ".py",
   "mimetype": "text/x-python",
   "name": "python",
   "nbconvert_exporter": "python",
   "pygments_lexer": "ipython3",
   "version": "3.7.10"
  }
 },
 "nbformat": 4,
 "nbformat_minor": 5
}
